{
 "cells": [
  {
   "cell_type": "markdown",
   "id": "35f57961",
   "metadata": {},
   "source": [
    "Here I implement grovers algorithm. I am attempting to follow the [original paper](https://dl.acm.org/doi/pdf/10.1145/237814.237866) as closely as possible."
   ]
  },
  {
   "cell_type": "code",
   "execution_count": 1,
   "id": "f40904da",
   "metadata": {},
   "outputs": [],
   "source": [
    "from qiskit import QuantumRegister, QuantumCircuit, quantum_info\n",
    "\n",
    "import numpy as np\n",
    "from numpy import fill_diagonal\n",
    "\n"
   ]
  },
  {
   "cell_type": "code",
   "execution_count": 2,
   "id": "c4907ef9",
   "metadata": {},
   "outputs": [],
   "source": [
    "def initialize_state(oracle_domain: int):\n",
    "    \"\"\"accepts an integer and returns a circuit\n",
    "    that initializes an input state of state_space\n",
    "    qubits into an equal superpositional state\n",
    "    \"\"\"\n",
    "\n",
    "\n",
    "    # we first determine the number of qubits necessary\n",
    "    # describe our state in base 2\n",
    "    # ie if the oracle accepts any integer in [0,7]\n",
    "    # we want to use 3 qubits\n",
    "    # if it accepts any integer [0,5] we also want\n",
    "    # to use 3 qubits since this can not be represented\n",
    "    # by 2 clasical bits\n",
    "\n",
    "    qubits_req = int(np.ceil(np.log2(oracle_domain)))\n",
    "    print(qubits_req)\n",
    "    ret_circ = QuantumCircuit(qubits_req)\n",
    "\n",
    "    for i in range(qubits_req):\n",
    "        ret_circ.h(i)\n",
    "\n",
    "    return ret_circ"
   ]
  },
  {
   "cell_type": "code",
   "execution_count": 3,
   "id": "191892dc",
   "metadata": {},
   "outputs": [],
   "source": [
    "def diffusion_operator(big_n):\n",
    "    # we construct the diffusion operator D as described in:\n",
    "    # https://arxiv.org/pdf/quant-ph/9605043\n",
    "\n",
    "    # at least 1 qubit is needed\n",
    "    n = max(np.ceil(np.log2(big_n)), 1)\n",
    "\n",
    "    nearest_power_of_2_above_big_n = 2 ** (n)\n",
    "\n",
    "    operator = np.zeros((int(nearest_power_of_2_above_big_n), int(nearest_power_of_2_above_big_n)))\n",
    "\n",
    "    operator.fill(2 / big_n)\n",
    "    fill_diagonal(operator, -1 + 2 / big_n)\n",
    "\n",
    "    return operator"
   ]
  },
  {
   "cell_type": "code",
   "execution_count": 4,
   "id": "b1232cb7",
   "metadata": {},
   "outputs": [],
   "source": [
    "def construct_groracle(true_value: int, max_value: int):\n",
    "    if true_value >= max_value:\n",
    "        raise Exception(\n",
    "            f\"{true_value} must be within [0, {max_value})\"\n",
    "        )\n",
    "    \n",
    "    return lambda x: x == true_value\n",
    "\n",
    "def unitary_groracle(true_value: int, max_value: int):\n",
    "    # constructs U_omega for omega = true_value within state space\n",
    "    # of size max_value. \n",
    "\n",
    "    # ensure max_value is some int st max_value = 2 ^ k for some k\n",
    "    # and i guess note that the true max will be 1 minus that value\n",
    "\n",
    "    ret_mat = np.identity(max_value)\n",
    "\n",
    "    # flip the sign. This is the construction from the paper, ie\n",
    "    # C(S) = -|x> iff f(x) = 1\n",
    "    # this works because the lexiograpic order works like we want it to :)\n",
    "    # I think this is little endian...\n",
    "    ret_mat[true_value, true_value] *= -1\n",
    "    \n",
    "    return quantum_info.Operator(ret_mat)"
   ]
  },
  {
   "cell_type": "code",
   "execution_count": null,
   "id": "dca21a52",
   "metadata": {},
   "outputs": [],
   "source": [
    "def build_algo_core(big_n: int, groracle):\n",
    "    n = int(max(np.ceil(np.log2(big_n)), 1))\n",
    "\n",
    "    iterations_to_perform = np.ceil(np.pi * .25 * np.sqrt(big_n))\n",
    "\n",
    "    diff_op = diffusion_operator(big_n)\n",
    "    \n",
    "    circ = QuantumCircuit(n)\n",
    "\n",
    "    for qubit in range(n):\n",
    "        circ.h(qubit)\n",
    "\n",
    "    for _ in range(iterations_to_perform):\n",
    "        circ.append(groracle)\n",
    "        circ.append(diff_op)\n",
    "\n",
    "    "
   ]
  }
 ],
 "metadata": {
  "kernelspec": {
   "display_name": "venv",
   "language": "python",
   "name": "python3"
  },
  "language_info": {
   "codemirror_mode": {
    "name": "ipython",
    "version": 3
   },
   "file_extension": ".py",
   "mimetype": "text/x-python",
   "name": "python",
   "nbconvert_exporter": "python",
   "pygments_lexer": "ipython3",
   "version": "3.13.5"
  }
 },
 "nbformat": 4,
 "nbformat_minor": 5
}
