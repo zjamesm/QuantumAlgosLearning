{
 "cells": [
  {
   "cell_type": "code",
   "execution_count": null,
   "id": "f40904da",
   "metadata": {},
   "outputs": [],
   "source": [
    "from qiskit import QuantumRegister, QuantumCircuit\n",
    "\n",
    "import numpy as np\n"
   ]
  },
  {
   "cell_type": "code",
   "execution_count": null,
   "id": "c4907ef9",
   "metadata": {},
   "outputs": [],
   "source": [
    "def initialize_state(oracle_domain: int):\n",
    "    \"\"\"accepts an integer and returns a circuit\n",
    "    that initializes an input state of state_space\n",
    "    qubits into an equal superpositional state\n",
    "    \"\"\"\n",
    "\n",
    "\n",
    "    # we first determine the number of qubits necessary\n",
    "    # describe our state in base 2\n",
    "    # ie if the oracle accepts any integer in [0,7]\n",
    "    # we want to use 3 qubits\n",
    "    # if it accepts any integer [0,5] we also want\n",
    "    # to use 3 qubits since this can not be represented\n",
    "    # by 2 clasical bits\n",
    "\n",
    "    qubits_req = int(np.ceil(np.log2(oracle_domain)))\n",
    "    print(qubits_req)\n",
    "    ret_circ = QuantumCircuit(qubits_req)\n",
    "\n",
    "    for i in range(qubits_req):\n",
    "        ret_circ.h(i)\n",
    "\n",
    "    return ret_circ\n",
    "\n",
    "def diffusion_operator()\n"
   ]
  },
  {
   "cell_type": "code",
   "execution_count": 19,
   "id": "b1232cb7",
   "metadata": {},
   "outputs": [],
   "source": [
    "def construct_groracle(true_value: int, max_value: int):\n",
    "    if true_value >= max_value:\n",
    "        raise Exception(\n",
    "            f\"{true_value} must be within [0, {max_value})\"\n",
    "        )\n",
    "    \n",
    "    return lambda x: x == true_value"
   ]
  },
  {
   "cell_type": "code",
   "execution_count": null,
   "id": "dca21a52",
   "metadata": {},
   "outputs": [],
   "source": []
  }
 ],
 "metadata": {
  "kernelspec": {
   "display_name": "Project1",
   "language": "python",
   "name": "python3"
  },
  "language_info": {
   "codemirror_mode": {
    "name": "ipython",
    "version": 3
   },
   "file_extension": ".py",
   "mimetype": "text/x-python",
   "name": "python",
   "nbconvert_exporter": "python",
   "pygments_lexer": "ipython3",
   "version": "3.13.3"
  }
 },
 "nbformat": 4,
 "nbformat_minor": 5
}
