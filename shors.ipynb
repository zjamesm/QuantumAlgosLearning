{
 "cells": [
  {
   "cell_type": "markdown",
   "id": "2636ecd8",
   "metadata": {},
   "source": [
    "This is my implementation of Shor's algorithm.\n",
    "\n",
    "A few resources seem relevant to understanding and implementing this paper.\n",
    "\n",
    " - [This](https://arxiv.org/abs/quant-ph/9508027v2) is a revised version of the [original paper](https://math.mit.edu/~shor/papers/algsfqc-dlf.pdf) of Shor's relaying the quantum factoring and discrete logarithm algorithms. \n",
    " - [This](https://venhance.github.io/napkin/Napkin.pdf) text I can emphatically recommend, and do to anyone who will listen. The chapters on quantum computation are good but not self contained in my opinion. "
   ]
  },
  {
   "cell_type": "code",
   "execution_count": null,
   "id": "7e88c16d",
   "metadata": {
    "vscode": {
     "languageId": "plaintext"
    }
   },
   "outputs": [],
   "source": [
    "from qiskit import QuantumRegister, QuantumCircuit, quantum_info, circuit, visualization\n",
    "import qiskit_aer as qa"
   ]
  }
 ],
 "metadata": {
  "language_info": {
   "name": "python"
  }
 },
 "nbformat": 4,
 "nbformat_minor": 5
}
