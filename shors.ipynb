{
 "cells": [
  {
   "cell_type": "markdown",
   "id": "2636ecd8",
   "metadata": {},
   "source": [
    "This is my implementation of Shor's algorithm. I use [this](https://math.mit.edu/~shor/papers/algsfqc-dlf.pdf) paper hosted on Professor Peter Shor's website. Otherwise, this source is behind an IEEE paywall."
   ]
  },
  {
   "cell_type": "code",
   "execution_count": null,
   "id": "7e88c16d",
   "metadata": {
    "vscode": {
     "languageId": "plaintext"
    }
   },
   "outputs": [],
   "source": [
    "from qiskit import QuantumRegister, QuantumCircuit, quantum_info, circuit, visualization\n",
    "import qiskit_aer as qa"
   ]
  }
 ],
 "metadata": {
  "language_info": {
   "name": "python"
  }
 },
 "nbformat": 4,
 "nbformat_minor": 5
}
